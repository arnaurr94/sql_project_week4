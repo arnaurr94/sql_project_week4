{
 "cells": [
  {
   "cell_type": "code",
   "execution_count": null,
   "id": "8931da8e",
   "metadata": {},
   "outputs": [],
   "source": [
    "import pandas as pd\n",
    "import seaborn as sns\n",
    "import matplotlib.pyplot as plt\n",
    "import sqlalchemy\n",
    "\n"
   ]
  },
  {
   "cell_type": "code",
   "execution_count": null,
   "id": "78b36f92",
   "metadata": {},
   "outputs": [],
   "source": [
    "df_rats = pd.read_csv('rat_counts.csv')\n",
    "df_rats.head(2)"
   ]
  },
  {
   "cell_type": "code",
   "execution_count": null,
   "id": "8b400f95",
   "metadata": {},
   "outputs": [],
   "source": [
    "## connect to mysql instance\n",
    "\n",
    "\n",
    "engine = sqlalchemy.create_engine(\n",
    "    f\"mysql+pymysql://{username}:{password}@{host}:{3306}/{database}\"\n",
    ")\n",
    "\n",
    "query = \"\"\"\n",
    "                select a.airbnb_id,\n",
    "                    a.airbnb_name,\n",
    "                    a.host_id,\n",
    "                    h.host_name,\n",
    "                    a.price,\n",
    "                    a.room_type,\n",
    "                    a.number_of_reviews,\n",
    "                    a.availability_365,\n",
    "                    r.number_of_rat_incidents,\n",
    "                    n.neighbourhood_group,\n",
    "                    n.neighbourhood,\n",
    "                    l.latitude,\n",
    "                    l.longitude\n",
    "                from airbnb_ny.Apartments as a\n",
    "                left join airbnb_ny.rats as r\n",
    "                on a.airbnb_id = r.airbnb_id\n",
    "                left join airbnb_ny.host as h\n",
    "                on a.host_id = h.host_id\n",
    "                left join airbnb_ny.location as l\n",
    "                on a.airbnb_id = l.airbnb_id\n",
    "                left join airbnb_ny.neighbourhoods as n\n",
    "                on l.neighbourhood_id = n.combined_id;\n",
    "                \n",
    "                \"\"\"\n",
    "\n",
    "my_df = pd.read_sql(query,engine)\n"
   ]
  },
  {
   "cell_type": "code",
   "execution_count": null,
   "id": "511d3c5e",
   "metadata": {},
   "outputs": [],
   "source": [
    "\n",
    "df_price_rats = my_df[my_df['price'] < 6000]\n",
    "\n",
    "neighborhoods = ['Manhattan', 'Brooklyn', 'Queens', 'Bronx', 'Staten Island']\n",
    "colors = {\n",
    "    'Manhattan': 'red',\n",
    "    'Brooklyn': 'blue',\n",
    "    'Queens': 'green',\n",
    "    'Bronx': 'orange',\n",
    "    'Staten Island': 'purple'\n",
    "}\n",
    "\n",
    "# Create subplots (1 row, 5 columns)\n",
    "fig, axes = plt.subplots(nrows=1, ncols=5, figsize=(20, 4), sharey=True)\n",
    "\n",
    "for ax, group in zip(axes, neighborhoods):\n",
    "    data = df_price_rats[df_price_rats['neighbourhood_group'] == group]\n",
    "    ax.scatter(\n",
    "        data['number_of_rat_incidents'],\n",
    "        data['price'],\n",
    "        alpha=0.6,\n",
    "        color=colors[group]\n",
    "    )\n",
    "    ax.set_title(group)\n",
    "    ax.set_xlabel(\"Rat Incidents\")\n",
    "    if ax == axes[0]:\n",
    "        ax.set_ylabel(\"Price\")\n",
    "\n",
    "plt.tight_layout()\n",
    "plt.show()\n"
   ]
  }
 ],
 "metadata": {
  "language_info": {
   "name": "python"
  }
 },
 "nbformat": 4,
 "nbformat_minor": 5
}
