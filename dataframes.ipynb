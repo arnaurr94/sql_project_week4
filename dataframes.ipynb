{
 "cells": [
  {
   "cell_type": "code",
   "execution_count": 89,
   "id": "ede027ae",
   "metadata": {},
   "outputs": [
    {
     "name": "stderr",
     "output_type": "stream",
     "text": [
      "C:\\Users\\orian\\AppData\\Local\\Temp\\ipykernel_26932\\3488564972.py:4: DtypeWarning: Columns (4) have mixed types. Specify dtype option on import or set low_memory=False.\n",
      "  df = pd.read_csv('AB_US_2020.csv')\n",
      "C:\\Users\\orian\\AppData\\Local\\Temp\\ipykernel_26932\\3488564972.py:5: DtypeWarning: Columns (20) have mixed types. Specify dtype option on import or set low_memory=False.\n",
      "  df_rats = pd.read_csv('NYC_Rat_Sightings_20240716.csv')\n"
     ]
    }
   ],
   "source": [
    "import pandas as pd\n",
    "import seaborn as sns\n",
    "import matplotlib.pyplot as plt\n",
    "df = pd.read_csv('AB_US_2020.csv')\n",
    "df_rats = pd.read_csv('NYC_Rat_Sightings_20240716.csv')"
   ]
  },
  {
   "cell_type": "code",
   "execution_count": null,
   "id": "5ed3ad62",
   "metadata": {},
   "outputs": [],
   "source": [
    "## Created a restricted dataframe for just NYC\n",
    "df_ny = df[df['city'] == 'New York City']"
   ]
  },
  {
   "cell_type": "markdown",
   "id": "7036e1e8",
   "metadata": {},
   "source": [
    "Create 5 different dataframes to work as tables for the DB."
   ]
  },
  {
   "cell_type": "code",
   "execution_count": null,
   "id": "26629668",
   "metadata": {},
   "outputs": [],
   "source": [
    "## From this we could easily extract no. of incidents/borough --> once in the database, extract no. of incidents/neighbhood\n",
    "## However, we may want to refine it a bit more: set a given distance from an apartment and calculate how many rat incidents\n",
    "## fall within that radius.\n",
    "df_rats = df_rats[['Created Date', 'Incident Address', 'Borough', 'Latitude', 'Longitude']]"
   ]
  },
  {
   "cell_type": "code",
   "execution_count": null,
   "id": "e4553588",
   "metadata": {},
   "outputs": [],
   "source": [
    "df_apartments = df_ny[['id', 'name', 'host_id', 'room_type', 'number_of_reviews', 'availability_365']]"
   ]
  },
  {
   "cell_type": "code",
   "execution_count": 135,
   "id": "f33fac00",
   "metadata": {},
   "outputs": [],
   "source": [
    "df_hosts = df_ny[['host_id', 'host_name']]"
   ]
  },
  {
   "cell_type": "code",
   "execution_count": null,
   "id": "665d468e",
   "metadata": {},
   "outputs": [],
   "source": [
    "df_locations = df_ny[['id', 'name', 'latitude', 'longitude', 'neighbourhood_group']]"
   ]
  },
  {
   "cell_type": "code",
   "execution_count": 138,
   "id": "8e120f46",
   "metadata": {},
   "outputs": [],
   "source": [
    "df_neighbourhoods = df_ny[['neighbourhood_group', 'neighbourhood']]"
   ]
  }
 ],
 "metadata": {
  "kernelspec": {
   "display_name": "base",
   "language": "python",
   "name": "python3"
  },
  "language_info": {
   "codemirror_mode": {
    "name": "ipython",
    "version": 3
   },
   "file_extension": ".py",
   "mimetype": "text/x-python",
   "name": "python",
   "nbconvert_exporter": "python",
   "pygments_lexer": "ipython3",
   "version": "3.13.5"
  }
 },
 "nbformat": 4,
 "nbformat_minor": 5
}
